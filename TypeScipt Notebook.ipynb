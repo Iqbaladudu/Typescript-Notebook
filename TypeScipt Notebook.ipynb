{
 "cells": [
  {
   "cell_type": "markdown",
   "id": "a20a452b-bc03-42c7-9d77-699cf9baa039",
   "metadata": {},
   "source": [
    "# Variable"
   ]
  },
  {
   "cell_type": "code",
   "execution_count": 3,
   "id": "2cac0db8-3d7f-421b-95b3-bff024983ef4",
   "metadata": {},
   "outputs": [
    {
     "data": {
      "text/plain": [
       "undefined"
      ]
     },
     "execution_count": 3,
     "metadata": {},
     "output_type": "execute_result"
    }
   ],
   "source": [
    "var a = 10;\n",
    "let b = 20;\n",
    "let c = 30;"
   ]
  },
  {
   "cell_type": "code",
   "execution_count": 4,
   "id": "ee947e8f-bc9f-4bb9-a847-196c3ebeeee1",
   "metadata": {},
   "outputs": [
    {
     "data": {
      "text/plain": [
       "10"
      ]
     },
     "execution_count": 4,
     "metadata": {},
     "output_type": "execute_result"
    }
   ],
   "source": [
    "a"
   ]
  },
  {
   "cell_type": "code",
   "execution_count": 5,
   "id": "dba9012e-7ae5-4092-8a1b-fc95634f5406",
   "metadata": {},
   "outputs": [
    {
     "data": {
      "text/plain": [
       "20"
      ]
     },
     "execution_count": 5,
     "metadata": {},
     "output_type": "execute_result"
    }
   ],
   "source": [
    "b"
   ]
  },
  {
   "cell_type": "code",
   "execution_count": 6,
   "id": "17ca4d77-7993-40a2-be4f-15bde71c1f93",
   "metadata": {},
   "outputs": [
    {
     "data": {
      "text/plain": [
       "30"
      ]
     },
     "execution_count": 6,
     "metadata": {},
     "output_type": "execute_result"
    }
   ],
   "source": [
    "c"
   ]
  },
  {
   "cell_type": "code",
   "execution_count": 7,
   "id": "fb66573f-c84b-4324-9506-0a8ff12214f6",
   "metadata": {},
   "outputs": [
    {
     "data": {
      "text/plain": [
       "20"
      ]
     },
     "execution_count": 7,
     "metadata": {},
     "output_type": "execute_result"
    }
   ],
   "source": [
    "var d: number;\n",
    "d = 20"
   ]
  },
  {
   "cell_type": "code",
   "execution_count": null,
   "id": "7b89fa77-9515-4f11-8b2e-614be969cc58",
   "metadata": {},
   "outputs": [
    {
     "ename": "Error",
     "evalue": "Line 1, Character 1\nd = \"Hai\"\n^\nTS2322: Type 'string' is not assignable to type 'number'.",
     "execution_count": 8,
     "output_type": "error",
     "traceback": [
      "Error: Line 1, Character 1",
      "d = \"Hai\"",
      "^",
      "TS2322: Type 'string' is not assignable to type 'number'.",
      "    at execTranspile (/usr/lib/node_modules/itypescript/lib/kernel.js:229:23)",
      "    at Session.transpiler [as transpile] (/usr/lib/node_modules/itypescript/lib/kernel.js:288:35)",
      "    at Session._runNow (/usr/lib/node_modules/itypescript/node_modules/nel/lib/nel.js:821:39)",
      "    at Session._run (/usr/lib/node_modules/itypescript/node_modules/nel/lib/nel.js:774:14)",
      "    at Session.execute (/usr/lib/node_modules/itypescript/node_modules/nel/lib/nel.js:915:10)",
      "    at Kernel.execute_request (/usr/lib/node_modules/itypescript/node_modules/jp-kernel/lib/handlers_v5.js:116:18)",
      "    at Kernel.onShellMessage (/usr/lib/node_modules/itypescript/node_modules/jp-kernel/lib/jp-kernel.js:285:41)",
      "    at Socket.<anonymous> (/usr/lib/node_modules/itypescript/node_modules/jmp/index.js:350:17)",
      "    at Socket.emit (node:events:394:28)",
      "    at Socket._emitMessage (/usr/lib/node_modules/itypescript/node_modules/zeromq/lib/index.js:649:15)"
     ]
    }
   ],
   "source": [
    "d = \"Hai\""
   ]
  },
  {
   "cell_type": "code",
   "execution_count": 9,
   "id": "a902ef37-74c6-4945-996f-83b2970bf8be",
   "metadata": {},
   "outputs": [
    {
     "data": {
      "text/plain": [
       "'Hai'"
      ]
     },
     "execution_count": 9,
     "metadata": {},
     "output_type": "execute_result"
    }
   ],
   "source": [
    "var y: string;\n",
    "y = \"Hai\"\n",
    "y"
   ]
  },
  {
   "cell_type": "code",
   "execution_count": 12,
   "id": "ec1904cd-3caa-46e6-a326-32516f4da518",
   "metadata": {},
   "outputs": [
    {
     "data": {
      "text/plain": [
       "true"
      ]
     },
     "execution_count": 12,
     "metadata": {},
     "output_type": "execute_result"
    }
   ],
   "source": [
    "var z: boolean;\n",
    "z = true\n",
    "z"
   ]
  },
  {
   "cell_type": "code",
   "execution_count": 13,
   "id": "2efb63a6-6a46-4a38-a586-76eebbf0a42a",
   "metadata": {},
   "outputs": [
    {
     "data": {
      "text/plain": [
       "'Hai'"
      ]
     },
     "execution_count": 13,
     "metadata": {},
     "output_type": "execute_result"
    }
   ],
   "source": [
    "var q: any;\n",
    "q = \"Hai\"\n",
    "q"
   ]
  },
  {
   "cell_type": "markdown",
   "id": "a827141a-2ade-48d6-9de2-5fa70cba6cfc",
   "metadata": {},
   "source": [
    "# Advanced Variable"
   ]
  },
  {
   "cell_type": "markdown",
   "id": "958e3592-2514-4204-b68b-dc24c386bf1f",
   "metadata": {},
   "source": [
    "## Array"
   ]
  },
  {
   "cell_type": "code",
   "execution_count": 15,
   "id": "41d9ace8-0e65-4951-ada4-35af72a7cf61",
   "metadata": {},
   "outputs": [
    {
     "data": {
      "text/plain": [
       "[ 'Hello', 'World' ]"
      ]
     },
     "execution_count": 15,
     "metadata": {},
     "output_type": "execute_result"
    }
   ],
   "source": [
    "var arr: string[];\n",
    "arr = [\"Hello\",\"World\"]"
   ]
  },
  {
   "cell_type": "code",
   "execution_count": 17,
   "id": "59b74593-542c-4bb4-8f3a-8498bac839ae",
   "metadata": {},
   "outputs": [
    {
     "data": {
      "text/plain": [
       "[ 'Hai', 'Hello' ]"
      ]
     },
     "execution_count": 17,
     "metadata": {},
     "output_type": "execute_result"
    }
   ],
   "source": [
    "// generic array\n",
    "var genericArray: Array<string>;\n",
    "genericArray = [\"Hai\", \"Hello\"]"
   ]
  },
  {
   "cell_type": "markdown",
   "id": "abbefa7f-a5e2-46c1-b78b-dbad473fee6b",
   "metadata": {},
   "source": [
    "## Tuple"
   ]
  },
  {
   "cell_type": "code",
   "execution_count": 22,
   "id": "9b16892f-8dbd-4a96-9ce8-7ecab63029c3",
   "metadata": {},
   "outputs": [
    {
     "data": {
      "text/plain": [
       "[ 3, true ]"
      ]
     },
     "execution_count": 22,
     "metadata": {},
     "output_type": "execute_result"
    }
   ],
   "source": [
    "var myTuple: [number, boolean];\n",
    "myTuple = [3, true]"
   ]
  },
  {
   "cell_type": "markdown",
   "id": "aea73f8f-4c55-4294-9f71-5810f315f627",
   "metadata": {},
   "source": [
    "## Enums\n",
    "### Enum values in Typescript are collections of constants, we can known as fixed-array"
   ]
  },
  {
   "cell_type": "code",
   "execution_count": 27,
   "id": "1ae254d3-9d19-4e40-aab8-77125bd12b76",
   "metadata": {},
   "outputs": [
    {
     "data": {
      "text/plain": [
       "undefined"
      ]
     },
     "execution_count": 27,
     "metadata": {},
     "output_type": "execute_result"
    }
   ],
   "source": [
    "enum spiceLevels {\n",
    "    NONE = \"No spice\",\n",
    "    LOW = \"Barely spicy\",\n",
    "    MEDIUM = \"Medium spicy\",\n",
    "    HIGH = \"Hot\"\n",
    "}"
   ]
  },
  {
   "cell_type": "code",
   "execution_count": 29,
   "id": "e864938e-fb38-466d-aa03-91f81a86d372",
   "metadata": {},
   "outputs": [
    {
     "data": {
      "text/plain": [
       "{\n",
       "  NONE: 'No spice',\n",
       "  LOW: 'Barely spicy',\n",
       "  MEDIUM: 'Medium spicy',\n",
       "  HIGH: 'Hot'\n",
       "}"
      ]
     },
     "execution_count": 29,
     "metadata": {},
     "output_type": "execute_result"
    }
   ],
   "source": [
    "spiceLevels"
   ]
  },
  {
   "cell_type": "code",
   "execution_count": 31,
   "id": "765b4dcf-78a3-4814-bdb8-5cfb997f7872",
   "metadata": {},
   "outputs": [
    {
     "data": {
      "text/plain": [
       "'No spice'"
      ]
     },
     "execution_count": 31,
     "metadata": {},
     "output_type": "execute_result"
    }
   ],
   "source": [
    "spiceLevels.NONE"
   ]
  },
  {
   "cell_type": "markdown",
   "id": "6ddc094a-0082-41ec-a48b-e197f13a9e0e",
   "metadata": {},
   "source": [
    "# Custom Types\n",
    "> One way to do this is by creating an interface. An interface in TypeScript is a data structure that defines the shape of data"
   ]
  },
  {
   "cell_type": "code",
   "execution_count": null,
   "id": "38100a72-ebb1-4e53-aab2-bfe9609ce3f9",
   "metadata": {},
   "outputs": [],
   "source": []
  },
  {
   "cell_type": "code",
   "execution_count": 3,
   "id": "570ea7ed-e8ec-481b-a26c-051e4601859e",
   "metadata": {},
   "outputs": [
    {
     "data": {
      "text/plain": [
       "undefined"
      ]
     },
     "execution_count": 3,
     "metadata": {},
     "output_type": "execute_result"
    }
   ],
   "source": [
    "interface Order {\n",
    "    customerName: string,\n",
    "    itemNumbers: number[],\n",
    "    isComplete: boolean,\n",
    "}"
   ]
  },
  {
   "cell_type": "code",
   "execution_count": 7,
   "id": "2604d7f1-5b29-4e3a-896e-65be912d7705",
   "metadata": {},
   "outputs": [
    {
     "data": {
      "text/plain": [
       "{\n",
       "  customerName: 'Abiye',\n",
       "  itemNumbers: [ 123, 44, 232 ],\n",
       "  isComplete: false\n",
       "}"
      ]
     },
     "execution_count": 7,
     "metadata": {},
     "output_type": "execute_result"
    }
   ],
   "source": [
    "var order: Order;\n",
    "order = {\n",
    "    customerName: \"Abiye\",\n",
    "    itemNumbers: [123,44,232],\n",
    "    isComplete: false\n",
    "}"
   ]
  },
  {
   "cell_type": "code",
   "execution_count": 9,
   "id": "4128e7e5-1749-4e73-bc8f-22497cd1f980",
   "metadata": {},
   "outputs": [
    {
     "data": {
      "text/plain": [
       "'Abiye'"
      ]
     },
     "execution_count": 9,
     "metadata": {},
     "output_type": "execute_result"
    }
   ],
   "source": [
    "order.customerName"
   ]
  },
  {
   "cell_type": "code",
   "execution_count": 11,
   "id": "581e4eb1-8431-44ea-aa37-c3775a02e809",
   "metadata": {},
   "outputs": [
    {
     "data": {
      "text/plain": [
       "undefined"
      ]
     },
     "execution_count": 11,
     "metadata": {},
     "output_type": "execute_result"
    }
   ],
   "source": [
    "interface Profile {\n",
    "    firstName: string,\n",
    "    lastName: string,\n",
    "    alamat: string[]\n",
    "}"
   ]
  },
  {
   "cell_type": "code",
   "execution_count": 12,
   "id": "c390f21e-6623-4193-bdb0-441079d626b5",
   "metadata": {},
   "outputs": [
    {
     "data": {
      "text/plain": [
       "undefined"
      ]
     },
     "execution_count": 12,
     "metadata": {},
     "output_type": "execute_result"
    }
   ],
   "source": [
    "var iqbal: Profile = {\n",
    "    firstName: \"Muhammad\",\n",
    "    lastName: \"Iqbal\",\n",
    "    alamat: [\"Cairo\",\"Egypt\"]\n",
    "}"
   ]
  },
  {
   "cell_type": "code",
   "execution_count": 13,
   "id": "4a31f59f-47d1-4f5f-a747-cff4345d427a",
   "metadata": {},
   "outputs": [
    {
     "data": {
      "text/plain": [
       "'Muhammad'"
      ]
     },
     "execution_count": 13,
     "metadata": {},
     "output_type": "execute_result"
    }
   ],
   "source": [
    "iqbal.firstName"
   ]
  },
  {
   "cell_type": "markdown",
   "id": "0bbdbae9-3c6e-4dc8-ab32-c80420a86154",
   "metadata": {},
   "source": [
    "### Optional Fields in Interfaces\n",
    "> Add '?' after property"
   ]
  },
  {
   "cell_type": "code",
   "execution_count": 15,
   "id": "82388402-71f5-4449-8fff-33d0c9b4aebd",
   "metadata": {},
   "outputs": [
    {
     "data": {
      "text/plain": [
       "undefined"
      ]
     },
     "execution_count": 15,
     "metadata": {},
     "output_type": "execute_result"
    }
   ],
   "source": [
    "interface School {\n",
    "    name: string,\n",
    "    alamat?: string\n",
    "}"
   ]
  },
  {
   "cell_type": "code",
   "execution_count": 17,
   "id": "6a10280f-834a-49ee-9f20-b6e7baad4a4d",
   "metadata": {},
   "outputs": [
    {
     "data": {
      "text/plain": [
       "undefined"
      ]
     },
     "execution_count": 17,
     "metadata": {},
     "output_type": "execute_result"
    }
   ],
   "source": [
    "var iqbals: School = {\n",
    "    name: \"MAN 2 Payakumbuh\"\n",
    "}"
   ]
  },
  {
   "cell_type": "code",
   "execution_count": 19,
   "id": "53229cc2-90d4-4ec9-bc17-99a296e43a30",
   "metadata": {},
   "outputs": [
    {
     "data": {
      "text/plain": [
       "'MAN 2 Payakumbuh'"
      ]
     },
     "execution_count": 19,
     "metadata": {},
     "output_type": "execute_result"
    }
   ],
   "source": [
    "// We can omit alamat, because we have add '?' after last letter of thats name\n",
    "iqbals.name"
   ]
  },
  {
   "cell_type": "markdown",
   "id": "7f2cc66d-0466-4fef-9509-1aa4ffb3cb64",
   "metadata": {},
   "source": [
    "# Function"
   ]
  },
  {
   "cell_type": "code",
   "execution_count": 6,
   "id": "eb9e9760-a0b7-4739-8b21-812e5ce94277",
   "metadata": {},
   "outputs": [
    {
     "data": {
      "text/plain": [
       "undefined"
      ]
     },
     "execution_count": 6,
     "metadata": {},
     "output_type": "execute_result"
    }
   ],
   "source": [
    "// Parameter type annotation\n",
    "function sapa(name: string) {\n",
    "    console.log(\"Hello, \" + name.toUpperCase() + \"!!\");\n",
    "}"
   ]
  },
  {
   "cell_type": "code",
   "execution_count": 7,
   "id": "93817532-d008-4c04-b13d-26d2812296b9",
   "metadata": {},
   "outputs": [
    {
     "name": "stdout",
     "output_type": "stream",
     "text": [
      "Hello, IQBAL!!\n"
     ]
    },
    {
     "data": {
      "text/plain": [
       "undefined"
      ]
     },
     "execution_count": 7,
     "metadata": {},
     "output_type": "execute_result"
    }
   ],
   "source": [
    "sapa(\"Iqbal\")"
   ]
  },
  {
   "cell_type": "code",
   "execution_count": 8,
   "id": "7376bf03-82e4-45bf-8767-714fbe22693f",
   "metadata": {},
   "outputs": [
    {
     "data": {
      "text/plain": [
       "undefined"
      ]
     },
     "execution_count": 8,
     "metadata": {},
     "output_type": "execute_result"
    }
   ],
   "source": [
    "// Return type annotations\n",
    "function getFavoriteNumber(): number {\n",
    "    return 26\n",
    "}"
   ]
  },
  {
   "cell_type": "code",
   "execution_count": 11,
   "id": "79dbf5fb-ac60-45a2-9bc3-3bfc62204596",
   "metadata": {},
   "outputs": [
    {
     "data": {
      "text/plain": [
       "26"
      ]
     },
     "execution_count": 11,
     "metadata": {},
     "output_type": "execute_result"
    }
   ],
   "source": [
    "getFavoriteNumber()"
   ]
  },
  {
   "cell_type": "code",
   "execution_count": 12,
   "id": "7eabac21-ae75-4536-99eb-058537cf99ff",
   "metadata": {},
   "outputs": [
    {
     "data": {
      "text/plain": [
       "undefined"
      ]
     },
     "execution_count": 12,
     "metadata": {},
     "output_type": "execute_result"
    }
   ],
   "source": [
    "// Anon Function\n",
    "var names: string[] = [\"Alice\", \"Bob\", \"Eve\"]"
   ]
  },
  {
   "cell_type": "code",
   "execution_count": 15,
   "id": "c11b3ac4-9927-4ebf-ae2b-cc03763e9c45",
   "metadata": {},
   "outputs": [
    {
     "name": "stdout",
     "output_type": "stream",
     "text": [
      "ALICE\n",
      "BOB\n",
      "EVE\n"
     ]
    },
    {
     "data": {
      "text/plain": [
       "undefined"
      ]
     },
     "execution_count": 15,
     "metadata": {},
     "output_type": "execute_result"
    }
   ],
   "source": [
    "names.forEach(function (s) {\n",
    "    console.log(s.toUpperCase())\n",
    "})"
   ]
  },
  {
   "cell_type": "code",
   "execution_count": null,
   "id": "aa968ef1-2c25-4078-a3ff-36c3c7a854e6",
   "metadata": {},
   "outputs": [
    {
     "name": "stdout",
     "output_type": "stream",
     "text": [
      "ALICE\n",
      "BOB\n",
      "EVE\n"
     ]
    },
    {
     "data": {
      "text/plain": [
       "undefined"
      ]
     },
     "execution_count": 16,
     "metadata": {},
     "output_type": "execute_result"
    }
   ],
   "source": [
    "// Using arrow function\n",
    "names.forEach((s) => {\n",
    "    console.log(s.toUpperCase())\n",
    "})"
   ]
  },
  {
   "cell_type": "markdown",
   "id": "7afc9fac-1369-4b91-a739-2262e73030b3",
   "metadata": {},
   "source": [
    "# Object Types"
   ]
  },
  {
   "cell_type": "code",
   "execution_count": 20,
   "id": "5f0e1a0f-0801-4fea-8aeb-e80cbe630493",
   "metadata": {},
   "outputs": [
    {
     "data": {
      "text/plain": [
       "undefined"
      ]
     },
     "execution_count": 20,
     "metadata": {},
     "output_type": "execute_result"
    }
   ],
   "source": [
    "// The parameter's type annotation is an object type\n",
    "function printCoords(pt: {\n",
    "    x: number; y: number;\n",
    "}) {\n",
    "    console.log(pt.x);\n",
    "    console.log(pt.y);\n",
    "}"
   ]
  },
  {
   "cell_type": "code",
   "execution_count": 23,
   "id": "6443b589-672c-4154-b0e2-7a2b7eb384c9",
   "metadata": {},
   "outputs": [
    {
     "name": "stdout",
     "output_type": "stream",
     "text": [
      "3\n",
      "7\n"
     ]
    },
    {
     "data": {
      "text/plain": [
       "undefined"
      ]
     },
     "execution_count": 23,
     "metadata": {},
     "output_type": "execute_result"
    }
   ],
   "source": [
    "printCoords({x: 3, y: 7})"
   ]
  },
  {
   "cell_type": "code",
   "execution_count": 37,
   "id": "a7d9c53c-14f0-4582-949e-efe8040a5107",
   "metadata": {},
   "outputs": [
    {
     "data": {
      "text/plain": [
       "undefined"
      ]
     },
     "execution_count": 37,
     "metadata": {},
     "output_type": "execute_result"
    }
   ],
   "source": [
    "// Optional properties\n",
    "function printNama(obj: {\n",
    "    firstName: string;\n",
    "    middleName?: string;\n",
    "    lastName?: string;\n",
    "}) {\n",
    "    console.log(obj.firstName.toUpperCase() + \" \" + obj.lastName?.toUpperCase());\n",
    "}"
   ]
  },
  {
   "cell_type": "code",
   "execution_count": 40,
   "id": "d9e6f18b-f9b6-4671-8c7f-452e04cec901",
   "metadata": {},
   "outputs": [
    {
     "name": "stdout",
     "output_type": "stream",
     "text": [
      "IQBAL undefined\n"
     ]
    },
    {
     "data": {
      "text/plain": [
       "undefined"
      ]
     },
     "execution_count": 40,
     "metadata": {},
     "output_type": "execute_result"
    }
   ],
   "source": [
    "printNama({firstName: \"Iqbal\"});"
   ]
  },
  {
   "cell_type": "markdown",
   "id": "d9d1584b-4aad-4cd6-a715-784705d210b5",
   "metadata": {},
   "source": [
    "# Union Types\n",
    "> <b>A union type is a type formed from two or more other types, representing values that may be any one of those types. We refer to each of these types as the union’s members</b>\n"
   ]
  },
  {
   "cell_type": "code",
   "execution_count": 41,
   "id": "8472e976-ccbb-4a8c-a165-49478869c676",
   "metadata": {},
   "outputs": [
    {
     "data": {
      "text/plain": [
       "undefined"
      ]
     },
     "execution_count": 41,
     "metadata": {},
     "output_type": "execute_result"
    }
   ],
   "source": [
    "function printId(id: number | string) {\n",
    "    console.log(`ID kamu adalah: ${id}`)\n",
    "}"
   ]
  },
  {
   "cell_type": "code",
   "execution_count": 43,
   "id": "9b11f298-27f3-469f-b512-64f67b5203d8",
   "metadata": {},
   "outputs": [
    {
     "name": "stdout",
     "output_type": "stream",
     "text": [
      "ID kamu adalah: QWEWA\n"
     ]
    },
    {
     "data": {
      "text/plain": [
       "undefined"
      ]
     },
     "execution_count": 43,
     "metadata": {},
     "output_type": "execute_result"
    }
   ],
   "source": [
    "printId(\"QWEWA\")"
   ]
  },
  {
   "cell_type": "code",
   "execution_count": 44,
   "id": "8484eafd-7fd6-4798-a040-de9a1693306f",
   "metadata": {},
   "outputs": [
    {
     "name": "stdout",
     "output_type": "stream",
     "text": [
      "ID kamu adalah: 64454\n"
     ]
    },
    {
     "data": {
      "text/plain": [
       "undefined"
      ]
     },
     "execution_count": 44,
     "metadata": {},
     "output_type": "execute_result"
    }
   ],
   "source": [
    "printId(64454)"
   ]
  },
  {
   "cell_type": "code",
   "execution_count": 45,
   "id": "b4fcfa2f-7a08-4e8f-8473-ac4b7d8b5fdc",
   "metadata": {},
   "outputs": [
    {
     "data": {
      "text/plain": [
       "undefined"
      ]
     },
     "execution_count": 45,
     "metadata": {},
     "output_type": "execute_result"
    }
   ],
   "source": [
    "function printID(id: number | string) {\n",
    "    if (typeof id === \"string\") {\n",
    "        console.log(id.toUpperCase());\n",
    "    } else {\n",
    "        console.log(id);\n",
    "    }\n",
    "}"
   ]
  },
  {
   "cell_type": "code",
   "execution_count": 46,
   "id": "e3e6dbdd-0dfa-4d99-87bd-7507e7e90bc5",
   "metadata": {},
   "outputs": [
    {
     "name": "stdout",
     "output_type": "stream",
     "text": [
      "10\n"
     ]
    },
    {
     "data": {
      "text/plain": [
       "undefined"
      ]
     },
     "execution_count": 46,
     "metadata": {},
     "output_type": "execute_result"
    }
   ],
   "source": [
    "printID(10)"
   ]
  },
  {
   "cell_type": "code",
   "execution_count": 48,
   "id": "b1e498dc-5242-44a9-9ccc-159c50d7f19a",
   "metadata": {},
   "outputs": [
    {
     "name": "stdout",
     "output_type": "stream",
     "text": [
      "HALO\n"
     ]
    },
    {
     "data": {
      "text/plain": [
       "undefined"
      ]
     },
     "execution_count": 48,
     "metadata": {},
     "output_type": "execute_result"
    }
   ],
   "source": [
    "printID(\"Halo\")"
   ]
  },
  {
   "cell_type": "code",
   "execution_count": 49,
   "id": "9c94ecb3-26ce-4ebf-8fda-e627e68da918",
   "metadata": {},
   "outputs": [
    {
     "data": {
      "text/plain": [
       "undefined"
      ]
     },
     "execution_count": 49,
     "metadata": {},
     "output_type": "execute_result"
    }
   ],
   "source": [
    "function welcomePeople(x: string[] | string) {\n",
    "    if (Array.isArray(x)) {\n",
    "        console.log(\"Hello, \" + x.join(\" and \"));\n",
    "    } else {\n",
    "        console.log(\"Welcome lone traveler \" + x);\n",
    "    }\n",
    "}"
   ]
  },
  {
   "cell_type": "code",
   "execution_count": 50,
   "id": "2e06124d-db23-4224-a982-b56eab722f0b",
   "metadata": {},
   "outputs": [
    {
     "name": "stdout",
     "output_type": "stream",
     "text": [
      "Welcome lone traveler Iqbal\n"
     ]
    },
    {
     "data": {
      "text/plain": [
       "undefined"
      ]
     },
     "execution_count": 50,
     "metadata": {},
     "output_type": "execute_result"
    }
   ],
   "source": [
    "welcomePeople(\"Iqbal\")"
   ]
  },
  {
   "cell_type": "code",
   "execution_count": 51,
   "id": "4d81ada5-fbb0-4a64-bc61-81f6836e1906",
   "metadata": {},
   "outputs": [
    {
     "name": "stdout",
     "output_type": "stream",
     "text": [
      "Hello, Iqbal and Irma\n"
     ]
    },
    {
     "data": {
      "text/plain": [
       "undefined"
      ]
     },
     "execution_count": 51,
     "metadata": {},
     "output_type": "execute_result"
    }
   ],
   "source": [
    "welcomePeople([\"Iqbal\", \"Irma\"])"
   ]
  },
  {
   "cell_type": "markdown",
   "id": "9f9065d7-8370-4c33-9c46-dd3270eba4f6",
   "metadata": {},
   "source": [
    "# Type Aliases"
   ]
  },
  {
   "cell_type": "code",
   "execution_count": 52,
   "id": "145510d4-dab2-404b-bad9-883cf9cbd4b4",
   "metadata": {},
   "outputs": [
    {
     "data": {
      "text/plain": [
       "undefined"
      ]
     },
     "execution_count": 52,
     "metadata": {},
     "output_type": "execute_result"
    }
   ],
   "source": [
    "type Point = {\n",
    "    x: number;\n",
    "    y: number;\n",
    "}\n",
    "\n",
    "function printCords(pt: Point) {\n",
    "    console.log(pt.x)\n",
    "    console.log(pt.y)\n",
    "}"
   ]
  },
  {
   "cell_type": "code",
   "execution_count": 53,
   "id": "d6c52adc-899d-401d-b774-62741c55fed5",
   "metadata": {},
   "outputs": [
    {
     "name": "stdout",
     "output_type": "stream",
     "text": [
      "100\n",
      "100\n"
     ]
    },
    {
     "data": {
      "text/plain": [
       "undefined"
      ]
     },
     "execution_count": 53,
     "metadata": {},
     "output_type": "execute_result"
    }
   ],
   "source": [
    "printCords({x: 100, y: 100})"
   ]
  },
  {
   "cell_type": "markdown",
   "id": "0e6c80a6-9a1e-4bf7-b60c-23386807107f",
   "metadata": {},
   "source": [
    "# Interfaces\n",
    "> An interface declaration is another way to name an object type"
   ]
  },
  {
   "cell_type": "code",
   "execution_count": 54,
   "id": "28321887-81f2-4675-bdc4-b3aeb166fb37",
   "metadata": {},
   "outputs": [
    {
     "data": {
      "text/plain": [
       "undefined"
      ]
     },
     "execution_count": 54,
     "metadata": {},
     "output_type": "execute_result"
    }
   ],
   "source": [
    "interface Loc {\n",
    "    x: number;\n",
    "    y: number;\n",
    "}\n",
    "function printCo(pt: Point) {\n",
    "    console.log(pt.x)\n",
    "    console.log(pt.y)\n",
    "}"
   ]
  },
  {
   "cell_type": "code",
   "execution_count": 55,
   "id": "665c160b-5a5c-46e2-a46e-b1addce8e68b",
   "metadata": {},
   "outputs": [
    {
     "name": "stdout",
     "output_type": "stream",
     "text": [
      "89\n",
      "76\n"
     ]
    },
    {
     "data": {
      "text/plain": [
       "undefined"
      ]
     },
     "execution_count": 55,
     "metadata": {},
     "output_type": "execute_result"
    }
   ],
   "source": [
    "printCo({x: 89, y: 76})"
   ]
  },
  {
   "cell_type": "markdown",
   "id": "c8ef843b-bc20-45ae-b78f-7609cef9cc56",
   "metadata": {},
   "source": [
    "# Extending Interface Type\n",
    "> Type aliases and interfaces are very similar, and in many cases you can choose between them freely. Almost all features of an interface are available in type, the key distinction is that a type cannot be re-opened to add new properties vs an interface which is always extendable"
   ]
  },
  {
   "cell_type": "code",
   "execution_count": null,
   "id": "3551e7a1-31c5-4770-8d39-e588f475154a",
   "metadata": {},
   "outputs": [
    {
     "data": {
      "text/plain": [
       "undefined"
      ]
     },
     "execution_count": 56,
     "metadata": {},
     "output_type": "execute_result"
    }
   ],
   "source": [
    "interface Animal {\n",
    "    name: string\n",
    "}\n",
    "interface Bear extends Animal {\n",
    "    honey: boolean\n",
    "}"
   ]
  },
  {
   "cell_type": "code",
   "execution_count": 65,
   "id": "191ff244-3a22-477f-893e-c0fa656d4664",
   "metadata": {},
   "outputs": [
    {
     "data": {
      "text/plain": [
       "undefined"
      ]
     },
     "execution_count": 65,
     "metadata": {},
     "output_type": "execute_result"
    }
   ],
   "source": [
    "var bear: Bear;"
   ]
  },
  {
   "cell_type": "code",
   "execution_count": 67,
   "id": "691e2982-f01a-49b1-9fe1-64212ed91d9a",
   "metadata": {},
   "outputs": [
    {
     "data": {
      "text/plain": [
       "{ name: 'tes', honey: true }"
      ]
     },
     "execution_count": 67,
     "metadata": {},
     "output_type": "execute_result"
    }
   ],
   "source": [
    "bear = {\n",
    "    name: \"tes\",\n",
    "    honey: true\n",
    "}"
   ]
  },
  {
   "cell_type": "code",
   "execution_count": 68,
   "id": "05a77496-1565-4ab7-9aa5-e07e2cd9d8b9",
   "metadata": {},
   "outputs": [
    {
     "data": {
      "text/plain": [
       "undefined"
      ]
     },
     "execution_count": 68,
     "metadata": {},
     "output_type": "execute_result"
    }
   ],
   "source": [
    "type Animals = {\n",
    "    name: string\n",
    "}"
   ]
  },
  {
   "cell_type": "code",
   "execution_count": 69,
   "id": "661ee645-861f-46d7-8bb4-7b26ee7defcf",
   "metadata": {},
   "outputs": [
    {
     "data": {
      "text/plain": [
       "undefined"
      ]
     },
     "execution_count": 69,
     "metadata": {},
     "output_type": "execute_result"
    }
   ],
   "source": [
    "type Cat = Animals & {\n",
    "    cute?: boolean\n",
    "}"
   ]
  },
  {
   "cell_type": "code",
   "execution_count": 71,
   "id": "750ffc55-5f54-4822-9fa0-eb67f925d90e",
   "metadata": {},
   "outputs": [
    {
     "data": {
      "text/plain": [
       "undefined"
      ]
     },
     "execution_count": 71,
     "metadata": {},
     "output_type": "execute_result"
    }
   ],
   "source": [
    "var myCat: Cat = {\n",
    "    name: \"Me\",\n",
    "    cute: true\n",
    "}"
   ]
  },
  {
   "cell_type": "code",
   "execution_count": 72,
   "id": "4624f948-51c6-45d0-a9b0-0545e5d9a919",
   "metadata": {},
   "outputs": [
    {
     "data": {
      "text/plain": [
       "'Me'"
      ]
     },
     "execution_count": 72,
     "metadata": {},
     "output_type": "execute_result"
    }
   ],
   "source": [
    "myCat.name"
   ]
  },
  {
   "cell_type": "markdown",
   "id": "24004812-c2df-4d02-847a-fcbcfb453c1c",
   "metadata": {},
   "source": [
    "# Type Assertions"
   ]
  },
  {
   "cell_type": "code",
   "execution_count": null,
   "id": "58c961fd-dfad-4fe3-ab07-18a57038e24b",
   "metadata": {},
   "outputs": [],
   "source": []
  }
 ],
 "metadata": {
  "kernelspec": {
   "display_name": "Typescript 4.4",
   "language": "typescript",
   "name": "typescript"
  },
  "language_info": {
   "file_extension": ".ts",
   "mimetype": "application/x-typescript",
   "name": "typescript",
   "version": "4.4.3"
  }
 },
 "nbformat": 4,
 "nbformat_minor": 5
}
