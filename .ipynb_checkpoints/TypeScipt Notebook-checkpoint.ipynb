{
 "cells": [
  {
   "cell_type": "markdown",
   "id": "a20a452b-bc03-42c7-9d77-699cf9baa039",
   "metadata": {},
   "source": [
    "# Variable"
   ]
  },
  {
   "cell_type": "code",
   "execution_count": 3,
   "id": "2cac0db8-3d7f-421b-95b3-bff024983ef4",
   "metadata": {},
   "outputs": [
    {
     "data": {
      "text/plain": [
       "undefined"
      ]
     },
     "execution_count": 3,
     "metadata": {},
     "output_type": "execute_result"
    }
   ],
   "source": [
    "var a = 10;\n",
    "let b = 20;\n",
    "let c = 30;"
   ]
  },
  {
   "cell_type": "code",
   "execution_count": 4,
   "id": "ee947e8f-bc9f-4bb9-a847-196c3ebeeee1",
   "metadata": {},
   "outputs": [
    {
     "data": {
      "text/plain": [
       "10"
      ]
     },
     "execution_count": 4,
     "metadata": {},
     "output_type": "execute_result"
    }
   ],
   "source": [
    "a"
   ]
  },
  {
   "cell_type": "code",
   "execution_count": 5,
   "id": "dba9012e-7ae5-4092-8a1b-fc95634f5406",
   "metadata": {},
   "outputs": [
    {
     "data": {
      "text/plain": [
       "20"
      ]
     },
     "execution_count": 5,
     "metadata": {},
     "output_type": "execute_result"
    }
   ],
   "source": [
    "b"
   ]
  },
  {
   "cell_type": "code",
   "execution_count": 6,
   "id": "17ca4d77-7993-40a2-be4f-15bde71c1f93",
   "metadata": {},
   "outputs": [
    {
     "data": {
      "text/plain": [
       "30"
      ]
     },
     "execution_count": 6,
     "metadata": {},
     "output_type": "execute_result"
    }
   ],
   "source": [
    "c"
   ]
  },
  {
   "cell_type": "code",
   "execution_count": 7,
   "id": "fb66573f-c84b-4324-9506-0a8ff12214f6",
   "metadata": {},
   "outputs": [
    {
     "data": {
      "text/plain": [
       "20"
      ]
     },
     "execution_count": 7,
     "metadata": {},
     "output_type": "execute_result"
    }
   ],
   "source": [
    "var d: number;\n",
    "d = 20"
   ]
  },
  {
   "cell_type": "code",
   "execution_count": null,
   "id": "7b89fa77-9515-4f11-8b2e-614be969cc58",
   "metadata": {},
   "outputs": [
    {
     "ename": "Error",
     "evalue": "Line 1, Character 1\nd = \"Hai\"\n^\nTS2322: Type 'string' is not assignable to type 'number'.",
     "execution_count": 8,
     "output_type": "error",
     "traceback": [
      "Error: Line 1, Character 1",
      "d = \"Hai\"",
      "^",
      "TS2322: Type 'string' is not assignable to type 'number'.",
      "    at execTranspile (/usr/lib/node_modules/itypescript/lib/kernel.js:229:23)",
      "    at Session.transpiler [as transpile] (/usr/lib/node_modules/itypescript/lib/kernel.js:288:35)",
      "    at Session._runNow (/usr/lib/node_modules/itypescript/node_modules/nel/lib/nel.js:821:39)",
      "    at Session._run (/usr/lib/node_modules/itypescript/node_modules/nel/lib/nel.js:774:14)",
      "    at Session.execute (/usr/lib/node_modules/itypescript/node_modules/nel/lib/nel.js:915:10)",
      "    at Kernel.execute_request (/usr/lib/node_modules/itypescript/node_modules/jp-kernel/lib/handlers_v5.js:116:18)",
      "    at Kernel.onShellMessage (/usr/lib/node_modules/itypescript/node_modules/jp-kernel/lib/jp-kernel.js:285:41)",
      "    at Socket.<anonymous> (/usr/lib/node_modules/itypescript/node_modules/jmp/index.js:350:17)",
      "    at Socket.emit (node:events:394:28)",
      "    at Socket._emitMessage (/usr/lib/node_modules/itypescript/node_modules/zeromq/lib/index.js:649:15)"
     ]
    }
   ],
   "source": [
    "d = \"Hai\""
   ]
  },
  {
   "cell_type": "code",
   "execution_count": 9,
   "id": "a902ef37-74c6-4945-996f-83b2970bf8be",
   "metadata": {},
   "outputs": [
    {
     "data": {
      "text/plain": [
       "'Hai'"
      ]
     },
     "execution_count": 9,
     "metadata": {},
     "output_type": "execute_result"
    }
   ],
   "source": [
    "var y: string;\n",
    "y = \"Hai\"\n",
    "y"
   ]
  },
  {
   "cell_type": "code",
   "execution_count": 12,
   "id": "ec1904cd-3caa-46e6-a326-32516f4da518",
   "metadata": {},
   "outputs": [
    {
     "data": {
      "text/plain": [
       "true"
      ]
     },
     "execution_count": 12,
     "metadata": {},
     "output_type": "execute_result"
    }
   ],
   "source": [
    "var z: boolean;\n",
    "z = true\n",
    "z"
   ]
  },
  {
   "cell_type": "code",
   "execution_count": 13,
   "id": "2efb63a6-6a46-4a38-a586-76eebbf0a42a",
   "metadata": {},
   "outputs": [
    {
     "data": {
      "text/plain": [
       "'Hai'"
      ]
     },
     "execution_count": 13,
     "metadata": {},
     "output_type": "execute_result"
    }
   ],
   "source": [
    "var q: any;\n",
    "q = \"Hai\"\n",
    "q"
   ]
  },
  {
   "cell_type": "markdown",
   "id": "a827141a-2ade-48d6-9de2-5fa70cba6cfc",
   "metadata": {},
   "source": [
    "# Advanced Variable"
   ]
  },
  {
   "cell_type": "markdown",
   "id": "958e3592-2514-4204-b68b-dc24c386bf1f",
   "metadata": {},
   "source": [
    "## Array"
   ]
  },
  {
   "cell_type": "code",
   "execution_count": 15,
   "id": "41d9ace8-0e65-4951-ada4-35af72a7cf61",
   "metadata": {},
   "outputs": [
    {
     "data": {
      "text/plain": [
       "[ 'Hello', 'World' ]"
      ]
     },
     "execution_count": 15,
     "metadata": {},
     "output_type": "execute_result"
    }
   ],
   "source": [
    "var arr: string[];\n",
    "arr = [\"Hello\",\"World\"]"
   ]
  },
  {
   "cell_type": "code",
   "execution_count": 17,
   "id": "59b74593-542c-4bb4-8f3a-8498bac839ae",
   "metadata": {},
   "outputs": [
    {
     "data": {
      "text/plain": [
       "[ 'Hai', 'Hello' ]"
      ]
     },
     "execution_count": 17,
     "metadata": {},
     "output_type": "execute_result"
    }
   ],
   "source": [
    "// generic array\n",
    "var genericArray: Array<string>;\n",
    "genericArray = [\"Hai\", \"Hello\"]"
   ]
  },
  {
   "cell_type": "markdown",
   "id": "abbefa7f-a5e2-46c1-b78b-dbad473fee6b",
   "metadata": {},
   "source": [
    "## Tuple"
   ]
  },
  {
   "cell_type": "code",
   "execution_count": 22,
   "id": "9b16892f-8dbd-4a96-9ce8-7ecab63029c3",
   "metadata": {},
   "outputs": [
    {
     "data": {
      "text/plain": [
       "[ 3, true ]"
      ]
     },
     "execution_count": 22,
     "metadata": {},
     "output_type": "execute_result"
    }
   ],
   "source": [
    "var myTuple: [number, boolean];\n",
    "myTuple = [3, true]"
   ]
  },
  {
   "cell_type": "markdown",
   "id": "aea73f8f-4c55-4294-9f71-5810f315f627",
   "metadata": {},
   "source": [
    "## Enums\n",
    "### Enum values in Typescript are collections of constants, we can known as fixed-array"
   ]
  },
  {
   "cell_type": "code",
   "execution_count": 27,
   "id": "1ae254d3-9d19-4e40-aab8-77125bd12b76",
   "metadata": {},
   "outputs": [
    {
     "data": {
      "text/plain": [
       "undefined"
      ]
     },
     "execution_count": 27,
     "metadata": {},
     "output_type": "execute_result"
    }
   ],
   "source": [
    "enum spiceLevels {\n",
    "    NONE = \"No spice\",\n",
    "    LOW = \"Barely spicy\",\n",
    "    MEDIUM = \"Medium spicy\",\n",
    "    HIGH = \"Hot\"\n",
    "}"
   ]
  },
  {
   "cell_type": "code",
   "execution_count": 29,
   "id": "e864938e-fb38-466d-aa03-91f81a86d372",
   "metadata": {},
   "outputs": [
    {
     "data": {
      "text/plain": [
       "{\n",
       "  NONE: 'No spice',\n",
       "  LOW: 'Barely spicy',\n",
       "  MEDIUM: 'Medium spicy',\n",
       "  HIGH: 'Hot'\n",
       "}"
      ]
     },
     "execution_count": 29,
     "metadata": {},
     "output_type": "execute_result"
    }
   ],
   "source": [
    "spiceLevels"
   ]
  },
  {
   "cell_type": "code",
   "execution_count": 31,
   "id": "765b4dcf-78a3-4814-bdb8-5cfb997f7872",
   "metadata": {},
   "outputs": [
    {
     "data": {
      "text/plain": [
       "'No spice'"
      ]
     },
     "execution_count": 31,
     "metadata": {},
     "output_type": "execute_result"
    }
   ],
   "source": [
    "spiceLevels.NONE"
   ]
  },
  {
   "cell_type": "markdown",
   "id": "6ddc094a-0082-41ec-a48b-e197f13a9e0e",
   "metadata": {},
   "source": [
    "# Custom Types\n",
    "> One way to do this is by creating an interface. An interface in TypeScript is a data structure that defines the shape of data"
   ]
  },
  {
   "cell_type": "code",
   "execution_count": null,
   "id": "38100a72-ebb1-4e53-aab2-bfe9609ce3f9",
   "metadata": {},
   "outputs": [],
   "source": []
  },
  {
   "cell_type": "code",
   "execution_count": 3,
   "id": "570ea7ed-e8ec-481b-a26c-051e4601859e",
   "metadata": {},
   "outputs": [
    {
     "data": {
      "text/plain": [
       "undefined"
      ]
     },
     "execution_count": 3,
     "metadata": {},
     "output_type": "execute_result"
    }
   ],
   "source": [
    "interface Order {\n",
    "    customerName: string,\n",
    "    itemNumbers: number[],\n",
    "    isComplete: boolean,\n",
    "}"
   ]
  },
  {
   "cell_type": "code",
   "execution_count": 7,
   "id": "2604d7f1-5b29-4e3a-896e-65be912d7705",
   "metadata": {},
   "outputs": [
    {
     "data": {
      "text/plain": [
       "{\n",
       "  customerName: 'Abiye',\n",
       "  itemNumbers: [ 123, 44, 232 ],\n",
       "  isComplete: false\n",
       "}"
      ]
     },
     "execution_count": 7,
     "metadata": {},
     "output_type": "execute_result"
    }
   ],
   "source": [
    "var order: Order;\n",
    "order = {\n",
    "    customerName: \"Abiye\",\n",
    "    itemNumbers: [123,44,232],\n",
    "    isComplete: false\n",
    "}"
   ]
  },
  {
   "cell_type": "code",
   "execution_count": 9,
   "id": "4128e7e5-1749-4e73-bc8f-22497cd1f980",
   "metadata": {},
   "outputs": [
    {
     "data": {
      "text/plain": [
       "'Abiye'"
      ]
     },
     "execution_count": 9,
     "metadata": {},
     "output_type": "execute_result"
    }
   ],
   "source": [
    "order.customerName"
   ]
  },
  {
   "cell_type": "code",
   "execution_count": 11,
   "id": "581e4eb1-8431-44ea-aa37-c3775a02e809",
   "metadata": {},
   "outputs": [
    {
     "data": {
      "text/plain": [
       "undefined"
      ]
     },
     "execution_count": 11,
     "metadata": {},
     "output_type": "execute_result"
    }
   ],
   "source": [
    "interface Profile {\n",
    "    firstName: string,\n",
    "    lastName: string,\n",
    "    alamat: string[]\n",
    "}"
   ]
  },
  {
   "cell_type": "code",
   "execution_count": 12,
   "id": "c390f21e-6623-4193-bdb0-441079d626b5",
   "metadata": {},
   "outputs": [
    {
     "data": {
      "text/plain": [
       "undefined"
      ]
     },
     "execution_count": 12,
     "metadata": {},
     "output_type": "execute_result"
    }
   ],
   "source": [
    "var iqbal: Profile = {\n",
    "    firstName: \"Muhammad\",\n",
    "    lastName: \"Iqbal\",\n",
    "    alamat: [\"Cairo\",\"Egypt\"]\n",
    "}"
   ]
  },
  {
   "cell_type": "code",
   "execution_count": 13,
   "id": "4a31f59f-47d1-4f5f-a747-cff4345d427a",
   "metadata": {},
   "outputs": [
    {
     "data": {
      "text/plain": [
       "'Muhammad'"
      ]
     },
     "execution_count": 13,
     "metadata": {},
     "output_type": "execute_result"
    }
   ],
   "source": [
    "iqbal.firstName"
   ]
  },
  {
   "cell_type": "markdown",
   "id": "0bbdbae9-3c6e-4dc8-ab32-c80420a86154",
   "metadata": {},
   "source": [
    "### Optional Fields in Interfaces\n",
    "> Add '?' after property"
   ]
  },
  {
   "cell_type": "code",
   "execution_count": 15,
   "id": "82388402-71f5-4449-8fff-33d0c9b4aebd",
   "metadata": {},
   "outputs": [
    {
     "data": {
      "text/plain": [
       "undefined"
      ]
     },
     "execution_count": 15,
     "metadata": {},
     "output_type": "execute_result"
    }
   ],
   "source": [
    "interface School {\n",
    "    name: string,\n",
    "    alamat?: string\n",
    "}"
   ]
  },
  {
   "cell_type": "code",
   "execution_count": 17,
   "id": "6a10280f-834a-49ee-9f20-b6e7baad4a4d",
   "metadata": {},
   "outputs": [
    {
     "data": {
      "text/plain": [
       "undefined"
      ]
     },
     "execution_count": 17,
     "metadata": {},
     "output_type": "execute_result"
    }
   ],
   "source": [
    "var iqbals: School = {\n",
    "    name: \"MAN 2 Payakumbuh\"\n",
    "}"
   ]
  },
  {
   "cell_type": "code",
   "execution_count": 19,
   "id": "53229cc2-90d4-4ec9-bc17-99a296e43a30",
   "metadata": {},
   "outputs": [
    {
     "data": {
      "text/plain": [
       "'MAN 2 Payakumbuh'"
      ]
     },
     "execution_count": 19,
     "metadata": {},
     "output_type": "execute_result"
    }
   ],
   "source": [
    "// We can omit alamat, because we have add '?' after last letter of thats name\n",
    "iqbals.name"
   ]
  },
  {
   "cell_type": "markdown",
   "id": "7f2cc66d-0466-4fef-9509-1aa4ffb3cb64",
   "metadata": {},
   "source": [
    "# Function"
   ]
  },
  {
   "cell_type": "code",
   "execution_count": 6,
   "id": "eb9e9760-a0b7-4739-8b21-812e5ce94277",
   "metadata": {},
   "outputs": [
    {
     "data": {
      "text/plain": [
       "undefined"
      ]
     },
     "execution_count": 6,
     "metadata": {},
     "output_type": "execute_result"
    }
   ],
   "source": [
    "// Parameter type annotation\n",
    "function sapa(name: string) {\n",
    "    console.log(\"Hello, \" + name.toUpperCase() + \"!!\");\n",
    "}"
   ]
  },
  {
   "cell_type": "code",
   "execution_count": 7,
   "id": "93817532-d008-4c04-b13d-26d2812296b9",
   "metadata": {},
   "outputs": [
    {
     "name": "stdout",
     "output_type": "stream",
     "text": [
      "Hello, IQBAL!!\n"
     ]
    },
    {
     "data": {
      "text/plain": [
       "undefined"
      ]
     },
     "execution_count": 7,
     "metadata": {},
     "output_type": "execute_result"
    }
   ],
   "source": [
    "sapa(\"Iqbal\")"
   ]
  },
  {
   "cell_type": "code",
   "execution_count": 8,
   "id": "7376bf03-82e4-45bf-8767-714fbe22693f",
   "metadata": {},
   "outputs": [
    {
     "data": {
      "text/plain": [
       "undefined"
      ]
     },
     "execution_count": 8,
     "metadata": {},
     "output_type": "execute_result"
    }
   ],
   "source": [
    "// Return type annotations\n",
    "function getFavoriteNumber(): number {\n",
    "    return 26\n",
    "}"
   ]
  },
  {
   "cell_type": "code",
   "execution_count": 10,
   "id": "79dbf5fb-ac60-45a2-9bc3-3bfc62204596",
   "metadata": {},
   "outputs": [
    {
     "data": {
      "text/plain": [
       "26"
      ]
     },
     "execution_count": 10,
     "metadata": {},
     "output_type": "execute_result"
    }
   ],
   "source": [
    "getFavoriteNumber()"
   ]
  }
 ],
 "metadata": {
  "kernelspec": {
   "display_name": "Typescript 4.4",
   "language": "typescript",
   "name": "typescript"
  },
  "language_info": {
   "file_extension": ".ts",
   "mimetype": "application/x-typescript",
   "name": "typescript",
   "version": "4.4.3"
  }
 },
 "nbformat": 4,
 "nbformat_minor": 5
}
